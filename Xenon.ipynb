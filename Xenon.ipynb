{
 "cells": [
  {
   "cell_type": "code",
   "execution_count": 1,
   "id": "6e015533",
   "metadata": {
    "scrolled": false
   },
   "outputs": [
    {
     "name": "stdout",
     "output_type": "stream",
     "text": [
      "힘 추옵 \n",
      "15\n",
      "힘 :  15\n",
      "덱 추옵 \n",
      "15\n",
      "덱 :  15\n",
      "럭 추옵 \n",
      "24\n",
      "럭 :  24\n",
      "공격력 추옵 \n",
      "0\n",
      "공격력 :  0\n",
      "올스텟 추옵 \n",
      "4\n",
      "올스텟 :  4\n",
      "제논 추옵은 80.39999999999999  입니다.\n"
     ]
    }
   ],
   "source": [
    "print(\"힘 추옵 \")\n",
    "\n",
    "str = int(input())\n",
    "print(\"힘 : \",str)\n",
    "\n",
    "print(\"덱 추옵 \")\n",
    "dex = int(input())\n",
    "print(\"덱 : \",dex)\n",
    "\n",
    "print(\"럭 추옵 \")\n",
    "luk = int(input())\n",
    "print(\"럭 : \" ,luk)\n",
    "\n",
    "print(\"공격력 추옵 \")\n",
    "power = int(input())\n",
    "print(\"공격력 : \",power)\n",
    "\n",
    "print(\"올스텟 추옵 \")\n",
    "all = int(input())\n",
    "print(\"올스텟 : \",all)\n",
    "\n",
    "\n",
    "\n",
    "num1 = str + dex + luk \n",
    "num2 = power * 5\n",
    "num3 = all * 20\n",
    "\n",
    "xenon =  (num1 + num2 + num3) * 0.6\n",
    "print(\"제논 추옵은\",xenon,\" 입니다.\")"
   ]
  }
 ],
 "metadata": {
  "kernelspec": {
   "display_name": "Python 3 (ipykernel)",
   "language": "python",
   "name": "python3"
  },
  "language_info": {
   "codemirror_mode": {
    "name": "ipython",
    "version": 3
   },
   "file_extension": ".py",
   "mimetype": "text/x-python",
   "name": "python",
   "nbconvert_exporter": "python",
   "pygments_lexer": "ipython3",
   "version": "3.9.7"
  }
 },
 "nbformat": 4,
 "nbformat_minor": 5
}
